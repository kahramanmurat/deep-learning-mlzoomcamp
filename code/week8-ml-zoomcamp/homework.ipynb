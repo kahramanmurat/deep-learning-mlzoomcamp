{
 "cells": [
  {
   "cell_type": "markdown",
   "id": "2862ff43",
   "metadata": {},
   "source": [
    "### Data Preparation\n",
    "\n",
    "The dataset contains around 2500 images of bees and around 2100 images of wasps. \n",
    "\n",
    "The dataset contains separate folders for training and test sets. \n",
    "\n",
    "\n",
    "### Model\n",
    "\n",
    "For this homework we will use Convolutional Neural Network (CNN). Like in the lectures, we'll use Keras.\n",
    "\n",
    "You need to develop the model with following structure:\n",
    "\n",
    "* The shape for input should be `(150, 150, 3)`\n",
    "* Next, create a convolutional layer ([`Conv2D`](https://keras.io/api/layers/convolution_layers/convolution2d/)):\n",
    "    * Use 32 filters\n",
    "    * Kernel size should be `(3, 3)` (that's the size of the filter)\n",
    "    * Use `'relu'` as activation \n",
    "* Reduce the size of the feature map with max pooling ([`MaxPooling2D`](https://keras.io/api/layers/pooling_layers/max_pooling2d/))\n",
    "    * Set the pooling size to `(2, 2)`\n",
    "* Turn the multi-dimensional result into vectors using a [`Flatten`](https://keras.io/api/layers/reshaping_layers/flatten/) layer\n",
    "* Next, add a `Dense` layer with 64 neurons and `'relu'` activation\n",
    "* Finally, create the `Dense` layer with 1 neuron - this will be the output\n",
    "    * The output layer should have an activation - use the appropriate activation for the binary classification case\n",
    "\n",
    "As optimizer use [`SGD`](https://keras.io/api/optimizers/sgd/) with the following parameters:\n",
    "\n",
    "* `SGD(lr=0.002, momentum=0.8)`"
   ]
  },
  {
   "cell_type": "code",
   "execution_count": 90,
   "id": "4fbf1b51",
   "metadata": {},
   "outputs": [],
   "source": [
    "from tqdm import tqdm\n",
    "import numpy as np\n",
    "import matplotlib.pyplot as plt\n",
    "import seaborn as sns\n",
    "\n",
    "%matplotlib inline"
   ]
  },
  {
   "cell_type": "code",
   "execution_count": 91,
   "id": "8b0db54f",
   "metadata": {
    "scrolled": true
   },
   "outputs": [
    {
     "name": "stdout",
     "output_type": "stream",
     "text": [
      "Model: \"sequential_4\"\n",
      "_________________________________________________________________\n",
      " Layer (type)                Output Shape              Param #   \n",
      "=================================================================\n",
      " conv2d_4 (Conv2D)           (None, 148, 148, 32)      896       \n",
      "                                                                 \n",
      " max_pooling2d_4 (MaxPooling  (None, 74, 74, 32)       0         \n",
      " 2D)                                                             \n",
      "                                                                 \n",
      " flatten_4 (Flatten)         (None, 175232)            0         \n",
      "                                                                 \n",
      " dense_8 (Dense)             (None, 64)                11214912  \n",
      "                                                                 \n",
      " dense_9 (Dense)             (None, 1)                 65        \n",
      "                                                                 \n",
      "=================================================================\n",
      "Total params: 11,215,873\n",
      "Trainable params: 11,215,873\n",
      "Non-trainable params: 0\n",
      "_________________________________________________________________\n"
     ]
    }
   ],
   "source": [
    "import tensorflow as tf\n",
    "from tensorflow import keras\n",
    "from tensorflow.keras.layers import Conv2D, MaxPooling2D, Flatten, Dense\n",
    "from tensorflow.keras.optimizers import SGD\n",
    "\n",
    "import matplotlib.pyplot as plt\n",
    "\n",
    "\n",
    "# Define the model\n",
    "model = keras.Sequential()\n",
    "\n",
    "# Convolutional layer\n",
    "model.add(Conv2D(32, (3, 3), activation='relu', input_shape=(150, 150, 3)))\n",
    "\n",
    "# Max pooling layer\n",
    "model.add(MaxPooling2D((2, 2)))\n",
    "\n",
    "# Flatten layer\n",
    "model.add(Flatten())\n",
    "\n",
    "# Dense layer with 64 neurons and 'relu' activation\n",
    "model.add(Dense(64, activation='relu'))\n",
    "\n",
    "# Output layer with 1 neuron and 'sigmoid' activation for binary classification\n",
    "model.add(Dense(1, activation='sigmoid'))\n",
    "\n",
    "# Compile the model with SGD optimizer\n",
    "sgd_optimizer = SGD(lr=0.002, momentum=0.8)\n",
    "model.compile(optimizer=sgd_optimizer, loss='binary_crossentropy', metrics=['accuracy'])\n",
    "\n",
    "# Print the model summary\n",
    "model.summary()\n"
   ]
  },
  {
   "cell_type": "code",
   "execution_count": 92,
   "id": "8a9e4818",
   "metadata": {},
   "outputs": [
    {
     "name": "stdout",
     "output_type": "stream",
     "text": [
      "2.9.1\n",
      "GPUs:  1\n"
     ]
    }
   ],
   "source": [
    "print(tf.__version__)\n",
    "print(\"GPUs: \", len(tf.config.list_physical_devices('GPU')))"
   ]
  },
  {
   "cell_type": "markdown",
   "id": "b3ff26d3",
   "metadata": {},
   "source": [
    "### Question 1\n",
    "\n",
    "Since we have a binary classification problem, what is the best loss function for us?\n",
    "\n",
    "* `mean squared error`\n",
    "* `binary crossentropy`\n",
    "* `categorical crossentropy`\n",
    "* `cosine similarity`\n",
    "\n",
    "**Answer**: `binary crossentropy`"
   ]
  },
  {
   "cell_type": "markdown",
   "id": "68fa81a6",
   "metadata": {},
   "source": [
    "### Question 2\n",
    "\n",
    "What's the number of parameters in the convolutional layer of our model? You can use the `summary` method for that. \n",
    "\n",
    "* 1 \n",
    "* 65\n",
    "* 896\n",
    "* 11214912\n",
    "\n",
    "**Answer:** 896"
   ]
  },
  {
   "cell_type": "code",
   "execution_count": 93,
   "id": "266c2a60",
   "metadata": {
    "scrolled": false
   },
   "outputs": [
    {
     "name": "stdout",
     "output_type": "stream",
     "text": [
      "Model: \"sequential_4\"\n",
      "_________________________________________________________________\n",
      " Layer (type)                Output Shape              Param #   \n",
      "=================================================================\n",
      " conv2d_4 (Conv2D)           (None, 148, 148, 32)      896       \n",
      "                                                                 \n",
      " max_pooling2d_4 (MaxPooling  (None, 74, 74, 32)       0         \n",
      " 2D)                                                             \n",
      "                                                                 \n",
      " flatten_4 (Flatten)         (None, 175232)            0         \n",
      "                                                                 \n",
      " dense_8 (Dense)             (None, 64)                11214912  \n",
      "                                                                 \n",
      " dense_9 (Dense)             (None, 1)                 65        \n",
      "                                                                 \n",
      "=================================================================\n",
      "Total params: 11,215,873\n",
      "Trainable params: 11,215,873\n",
      "Non-trainable params: 0\n",
      "_________________________________________________________________\n"
     ]
    }
   ],
   "source": [
    "# Print the model summary\n",
    "model.summary()"
   ]
  },
  {
   "cell_type": "markdown",
   "id": "1040d597",
   "metadata": {},
   "source": [
    "### Generators and Training\n",
    "\n",
    "For the next two questions, use the following data generator for both train and test sets:\n",
    "\n",
    "```python\n",
    "ImageDataGenerator(rescale=1./255)\n",
    "```\n",
    "\n",
    "* We don't need to do any additional pre-processing for the images.\n",
    "* When reading the data from train/test directories, check the `class_mode` parameter. Which value should it be for a binary classification problem?\n",
    "* Use `batch_size=20`\n",
    "* Use `shuffle=True` for both training and test sets. \n",
    "\n",
    "For training use `.fit()` with the following params:\n",
    "\n",
    "```python\n",
    "model.fit(\n",
    "    train_generator,\n",
    "    epochs=10,\n",
    "    validation_data=test_generator\n",
    ")\n",
    "```\n",
    "\n",
    "### Question 3\n",
    "\n",
    "What is the median of training accuracy for all the epochs for this model?\n",
    "\n",
    "* 0.20\n",
    "* 0.40\n",
    "* 0.60\n",
    "* 0.80"
   ]
  },
  {
   "cell_type": "code",
   "execution_count": 94,
   "id": "792cb6c3",
   "metadata": {
    "scrolled": true
   },
   "outputs": [
    {
     "name": "stdout",
     "output_type": "stream",
     "text": [
      "Found 3677 images belonging to 2 classes.\n",
      "Found 918 images belonging to 2 classes.\n"
     ]
    }
   ],
   "source": [
    "from tensorflow.keras.preprocessing.image import ImageDataGenerator\n",
    "\n",
    "# Set up data generators\n",
    "train_datagen = ImageDataGenerator(rescale=1./255)\n",
    "val_datagen = ImageDataGenerator(rescale=1./255)\n",
    "\n",
    "train_ds = train_datagen.flow_from_directory(\n",
    "    './data/train',\n",
    "    target_size=(150, 150),\n",
    "    batch_size=20,\n",
    "    class_mode='binary',  # Binary classification\n",
    "    shuffle=True\n",
    ")\n",
    "\n",
    "val_ds = val_datagen.flow_from_directory(\n",
    "    './data/test',\n",
    "    target_size=(150, 150),\n",
    "    batch_size=20,\n",
    "    class_mode='binary',  # Binary classification\n",
    "    shuffle=True\n",
    ")\n"
   ]
  },
  {
   "cell_type": "code",
   "execution_count": 95,
   "id": "5ed5a003",
   "metadata": {
    "scrolled": false
   },
   "outputs": [
    {
     "name": "stdout",
     "output_type": "stream",
     "text": [
      "Epoch 1/10\n",
      "184/184 [==============================] - 9s 48ms/step - loss: 0.6726 - accuracy: 0.5689 - val_loss: 0.6220 - val_accuracy: 0.6307\n",
      "Epoch 2/10\n",
      "184/184 [==============================] - 9s 48ms/step - loss: 0.6388 - accuracy: 0.6296 - val_loss: 0.6024 - val_accuracy: 0.6471\n",
      "Epoch 3/10\n",
      "184/184 [==============================] - 9s 47ms/step - loss: 0.5991 - accuracy: 0.6698 - val_loss: 0.5872 - val_accuracy: 0.6732\n",
      "Epoch 4/10\n",
      "184/184 [==============================] - 9s 47ms/step - loss: 0.5634 - accuracy: 0.7114 - val_loss: 0.5365 - val_accuracy: 0.7255\n",
      "Epoch 5/10\n",
      "184/184 [==============================] - 9s 48ms/step - loss: 0.5200 - accuracy: 0.7522 - val_loss: 0.5364 - val_accuracy: 0.7309\n",
      "Epoch 6/10\n",
      "184/184 [==============================] - 9s 47ms/step - loss: 0.4959 - accuracy: 0.7743 - val_loss: 0.5250 - val_accuracy: 0.7516\n",
      "Epoch 7/10\n",
      "184/184 [==============================] - 9s 47ms/step - loss: 0.4610 - accuracy: 0.7941 - val_loss: 0.5078 - val_accuracy: 0.7712\n",
      "Epoch 8/10\n",
      "184/184 [==============================] - 9s 46ms/step - loss: 0.4348 - accuracy: 0.8140 - val_loss: 0.5250 - val_accuracy: 0.7440\n",
      "Epoch 9/10\n",
      "184/184 [==============================] - 9s 47ms/step - loss: 0.4029 - accuracy: 0.8341 - val_loss: 0.5683 - val_accuracy: 0.7211\n",
      "Epoch 10/10\n",
      "184/184 [==============================] - 9s 47ms/step - loss: 0.3782 - accuracy: 0.8387 - val_loss: 0.5041 - val_accuracy: 0.7756\n"
     ]
    }
   ],
   "source": [
    "# Train the model\n",
    "history=model.fit(\n",
    "    train_ds,\n",
    "    epochs=10,\n",
    "    validation_data=val_ds\n",
    ")"
   ]
  },
  {
   "cell_type": "code",
   "execution_count": 96,
   "id": "38b6346d",
   "metadata": {},
   "outputs": [],
   "source": [
    "epochs=[i for i in range(1,11)]\n",
    "train_accuracy=history.history[\"accuracy\"]\n",
    "val_accuracy=history.history[\"val_accuracy\"]\n",
    "train_loss=history.history[\"loss\"]\n",
    "val_loss=history.history[\"val_loss\"]"
   ]
  },
  {
   "cell_type": "code",
   "execution_count": 97,
   "id": "0120d207",
   "metadata": {},
   "outputs": [
    {
     "data": {
      "image/png": "[encoded data removed]",
      "text/plain": [
       "<Figure size 640x480 with 1 Axes>"
      ]
     },
     "metadata": {},
     "output_type": "display_data"
    }
   ],
   "source": [
    "# Plotting the training and validation accuracy\n",
    "plt.plot(epochs, train_accuracy, label='Train Accuracy', marker='o')\n",
    "plt.plot(epochs, val_accuracy, label='Validation Accuracy', marker='o')\n",
    "\n",
    "# Adding labels and title\n",
    "plt.xlabel('Epochs')\n",
    "plt.ylabel('Accuracy')\n",
    "plt.title('Training and Validation Accuracy Over Epochs')\n",
    "\n",
    "\n",
    "# Add a grid\n",
    "plt.grid(True, linestyle='--', alpha=0.5)\n",
    "\n",
    "for epoch in epochs:\n",
    "    plt.xticks(range(1, epoch + 1))\n",
    "\n",
    "# Adding legend\n",
    "plt.legend()\n",
    "\n",
    "# Display the plot\n",
    "plt.show()"
   ]
  },
  {
   "cell_type": "code",
   "execution_count": 98,
   "id": "becb027c",
   "metadata": {},
   "outputs": [
    {
     "name": "stdout",
     "output_type": "stream",
     "text": [
      "0.77\n"
     ]
    }
   ],
   "source": [
    "# Get the median of training accuracy\n",
    "median_train_accuracy = history.history['accuracy']\n",
    "median_train_accuracy = sorted(median_train_accuracy)[len(median_train_accuracy) // 2]\n",
    "print(f\"{median_train_accuracy:.2f}\")"
   ]
  },
  {
   "cell_type": "markdown",
   "id": "74ddecef",
   "metadata": {},
   "source": [
    "**Answer:** `0.80` (that's closest)"
   ]
  },
  {
   "cell_type": "markdown",
   "id": "14664930",
   "metadata": {},
   "source": [
    "### Question 4\n",
    "\n",
    "What is the standard deviation of training loss for all the epochs for this model?\n",
    "\n",
    "* 0.031\n",
    "* 0.061\n",
    "* 0.091\n",
    "* 0.131"
   ]
  },
  {
   "cell_type": "code",
   "execution_count": 99,
   "id": "5d69a0c9",
   "metadata": {},
   "outputs": [
    {
     "data": {
      "image/png": "[encoded data removed]",
      "text/plain": [
       "<Figure size 640x480 with 1 Axes>"
      ]
     },
     "metadata": {},
     "output_type": "display_data"
    }
   ],
   "source": [
    "# Plotting the training and validation loss\n",
    "plt.plot(epochs, train_loss, label='Train Loss', marker='o')\n",
    "plt.plot(epochs, val_loss, label='Validation Loss', marker='o')\n",
    "\n",
    "# Adding labels and title\n",
    "plt.xlabel('Epochs')\n",
    "plt.ylabel('Accuracy')\n",
    "plt.title('Training and Validation Loss Over Epochs')\n",
    "\n",
    "\n",
    "# Add a grid\n",
    "plt.grid(True, linestyle='--', alpha=0.5)\n",
    "\n",
    "for epoch in epochs:\n",
    "    plt.xticks(range(1, epoch + 1))\n",
    "\n",
    "# Adding legend\n",
    "plt.legend()\n",
    "\n",
    "# Display the plot\n",
    "plt.show()"
   ]
  },
  {
   "cell_type": "code",
   "execution_count": 102,
   "id": "941bee1f",
   "metadata": {},
   "outputs": [
    {
     "name": "stdout",
     "output_type": "stream",
     "text": [
      "Standard Deviation of Training Loss: 0.095\n"
     ]
    }
   ],
   "source": [
    "# Get the standard deviation of training loss\n",
    "std_train_loss = np.std(history.history['loss'])\n",
    "\n",
    "print(f\"Standard Deviation of Training Loss: {std_train_loss:.3f}\")"
   ]
  },
  {
   "cell_type": "markdown",
   "id": "b9f57fa7",
   "metadata": {},
   "source": [
    "**Answer:** `0.091` (that's closest)"
   ]
  },
  {
   "cell_type": "markdown",
   "id": "ae6fba63",
   "metadata": {},
   "source": [
    "### Data Augmentation\n",
    "\n",
    "For the next two questions, we'll generate more data using data augmentations. \n",
    "\n",
    "Add the following augmentations to your training data generator:\n",
    "\n",
    "* `rotation_range=50,`\n",
    "* `width_shift_range=0.1,`\n",
    "* `height_shift_range=0.1,`\n",
    "* `zoom_range=0.1,`\n",
    "* `horizontal_flip=True,`\n",
    "* `fill_mode='nearest'`\n",
    "\n",
    "### Question 5 \n",
    "\n",
    "Let's train our model for 10 more epochs using the same code as previously.\n",
    "> **Note:** make sure you don't re-create the model - we want to continue training the model\n",
    "we already started training.\n",
    "\n",
    "What is the mean of test loss for all the epochs for the model trained with augmentations?\n",
    "\n",
    "* 0.18\n",
    "* 0.48\n",
    "* 0.78\n",
    "* 0.108"
   ]
  },
  {
   "cell_type": "code",
   "execution_count": 101,
   "id": "3e0b30ef",
   "metadata": {
    "scrolled": true
   },
   "outputs": [
    {
     "name": "stdout",
     "output_type": "stream",
     "text": [
      "Found 3677 images belonging to 2 classes.\n",
      "Found 918 images belonging to 2 classes.\n",
      "Epoch 1/20\n",
      "184/184 [==============================] - 24s 131ms/step - loss: 0.4936 - accuracy: 0.7735 - val_loss: 0.4924 - val_accuracy: 0.7723\n",
      "Epoch 2/20\n",
      "184/184 [==============================] - 24s 130ms/step - loss: 0.4987 - accuracy: 0.7713 - val_loss: 0.5299 - val_accuracy: 0.7407\n",
      "Epoch 3/20\n",
      "184/184 [==============================] - 24s 131ms/step - loss: 0.4826 - accuracy: 0.7775 - val_loss: 0.4650 - val_accuracy: 0.7887\n",
      "Epoch 4/20\n",
      "184/184 [==============================] - 24s 129ms/step - loss: 0.4770 - accuracy: 0.7846 - val_loss: 0.4544 - val_accuracy: 0.7843\n",
      "Epoch 5/20\n",
      "184/184 [==============================] - 24s 132ms/step - loss: 0.4619 - accuracy: 0.7830 - val_loss: 0.4524 - val_accuracy: 0.7908\n",
      "Epoch 6/20\n",
      "184/184 [==============================] - 24s 130ms/step - loss: 0.4646 - accuracy: 0.7898 - val_loss: 0.4828 - val_accuracy: 0.7756\n",
      "Epoch 7/20\n",
      "184/184 [==============================] - 24s 131ms/step - loss: 0.4698 - accuracy: 0.7868 - val_loss: 0.4706 - val_accuracy: 0.7832\n",
      "Epoch 8/20\n",
      "184/184 [==============================] - 24s 130ms/step - loss: 0.4607 - accuracy: 0.7914 - val_loss: 0.4479 - val_accuracy: 0.7941\n",
      "Epoch 9/20\n",
      "184/184 [==============================] - 24s 130ms/step - loss: 0.4577 - accuracy: 0.7860 - val_loss: 0.4581 - val_accuracy: 0.7898\n",
      "Epoch 10/20\n",
      "184/184 [==============================] - 24s 131ms/step - loss: 0.4516 - accuracy: 0.7990 - val_loss: 0.5370 - val_accuracy: 0.7625\n",
      "Epoch 11/20\n",
      "184/184 [==============================] - 24s 131ms/step - loss: 0.4464 - accuracy: 0.7966 - val_loss: 0.4585 - val_accuracy: 0.7865\n",
      "Epoch 12/20\n",
      "184/184 [==============================] - 24s 131ms/step - loss: 0.4469 - accuracy: 0.8020 - val_loss: 0.5214 - val_accuracy: 0.7778\n",
      "Epoch 13/20\n",
      "184/184 [==============================] - 24s 131ms/step - loss: 0.4443 - accuracy: 0.7939 - val_loss: 0.4689 - val_accuracy: 0.7756\n",
      "Epoch 14/20\n",
      "184/184 [==============================] - 24s 129ms/step - loss: 0.4471 - accuracy: 0.7960 - val_loss: 0.4931 - val_accuracy: 0.7756\n",
      "Epoch 15/20\n",
      "184/184 [==============================] - 24s 131ms/step - loss: 0.4375 - accuracy: 0.7990 - val_loss: 0.5809 - val_accuracy: 0.7691\n",
      "Epoch 16/20\n",
      "184/184 [==============================] - 24s 130ms/step - loss: 0.4398 - accuracy: 0.7979 - val_loss: 0.4335 - val_accuracy: 0.8039\n",
      "Epoch 17/20\n",
      "184/184 [==============================] - 24s 131ms/step - loss: 0.4341 - accuracy: 0.8102 - val_loss: 0.4881 - val_accuracy: 0.7832\n",
      "Epoch 18/20\n",
      "184/184 [==============================] - 24s 131ms/step - loss: 0.4292 - accuracy: 0.8088 - val_loss: 0.4442 - val_accuracy: 0.7985\n",
      "Epoch 19/20\n",
      "184/184 [==============================] - 24s 131ms/step - loss: 0.4341 - accuracy: 0.7998 - val_loss: 0.4374 - val_accuracy: 0.8039\n",
      "Epoch 20/20\n",
      "184/184 [==============================] - 24s 131ms/step - loss: 0.4342 - accuracy: 0.8061 - val_loss: 0.4415 - val_accuracy: 0.8017\n",
      "Mean Test Loss for Augmented Model:, 0.48\n"
     ]
    }
   ],
   "source": [
    "import numpy as np\n",
    "from keras.preprocessing.image import ImageDataGenerator\n",
    "\n",
    "\n",
    "# Create data generators with augmentations\n",
    "train_datagen = ImageDataGenerator(\n",
    "    rescale=1./255,\n",
    "    rotation_range=50,\n",
    "    width_shift_range=0.1,\n",
    "    height_shift_range=0.1,\n",
    "    zoom_range=0.1,\n",
    "    horizontal_flip=True,\n",
    "    fill_mode='nearest'\n",
    ")\n",
    "\n",
    "val_datagen = ImageDataGenerator(rescale=1./255)\n",
    "\n",
    "# Define directories for train and test sets\n",
    "train_dir = './data/train'\n",
    "val_dir = './data/test'\n",
    "\n",
    "# Create generators with augmentations\n",
    "train_ds = train_datagen.flow_from_directory(\n",
    "    train_dir,\n",
    "    target_size=(150, 150),\n",
    "    batch_size=20,\n",
    "    class_mode='binary',\n",
    "    shuffle=True\n",
    ")\n",
    "\n",
    "val_ds = test_datagen.flow_from_directory(\n",
    "    val_dir,\n",
    "    target_size=(150, 150),\n",
    "    batch_size=20,\n",
    "    class_mode='binary',\n",
    "    shuffle=True\n",
    ")\n",
    "\n",
    "# Continue training the model with data augmentations for 10 more epochs\n",
    "history_augmented = model.fit(\n",
    "    train_ds,\n",
    "    epochs=20,\n",
    "    validation_data=val_ds\n",
    ")\n",
    "\n"
   ]
  },
  {
   "cell_type": "code",
   "execution_count": 106,
   "id": "a6fc2899",
   "metadata": {},
   "outputs": [
    {
     "name": "stdout",
     "output_type": "stream",
     "text": [
      "Mean Validation Loss for Augmented Model:, 0.48\n"
     ]
    }
   ],
   "source": [
    "# Calculate the mean of test loss for all epochs including the augmented ones\n",
    "mean_val_loss_augmented = np.mean(history_augmented.history['val_loss'])\n",
    "\n",
    "print(f\"Mean Validation Loss for Augmented Model:, {mean_val_loss_augmented:.2f}\")"
   ]
  },
  {
   "cell_type": "markdown",
   "id": "934671ba",
   "metadata": {},
   "source": [
    "**Answer:** `0.48`"
   ]
  },
  {
   "cell_type": "markdown",
   "id": "cc8b8cb2",
   "metadata": {},
   "source": [
    "### Question 6\n",
    "\n",
    "What's the average of test accuracy for the last 5 epochs (from 6 to 10)\n",
    "for the model trained with augmentations?\n",
    "\n",
    "* 0.38\n",
    "* 0.58\n",
    "* 0.78\n",
    "* 0.98"
   ]
  },
  {
   "cell_type": "code",
   "execution_count": 109,
   "id": "8414bbcd",
   "metadata": {},
   "outputs": [
    {
     "name": "stdout",
     "output_type": "stream",
     "text": [
      "Average Test Accuracy for the Last 5 Epochs:,0.80\n"
     ]
    }
   ],
   "source": [
    "# Calculate the average of test accuracy for the last 5 epochs\n",
    "last_5_epochs_test_accuracy = np.mean(history_augmented.history['val_accuracy'][-5:])\n",
    "\n",
    "print(f\"Average Test Accuracy for the Last 5 Epochs:,{last_5_epochs_test_accuracy:.2f}\")"
   ]
  },
  {
   "cell_type": "markdown",
   "id": "03713494",
   "metadata": {},
   "source": [
    "**Answer:** `0.78` (that's the closest)"
   ]
  },
  {
   "cell_type": "code",
   "execution_count": null,
   "id": "2a27665d",
   "metadata": {},
   "outputs": [],
   "source": []
  }
 ],
 "metadata": {
  "kernelspec": {
   "display_name": "saturn (Python 3)",
   "language": "python",
   "name": "python3"
  },
  "language_info": {
   "codemirror_mode": {
    "name": "ipython",
    "version": 3
   },
   "file_extension": ".py",
   "mimetype": "text/x-python",
   "name": "python",
   "nbconvert_exporter": "python",
   "pygments_lexer": "ipython3",
   "version": "3.9.13"
  }
 },
 "nbformat": 4,
 "nbformat_minor": 5
}
